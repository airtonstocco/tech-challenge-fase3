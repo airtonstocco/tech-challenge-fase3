{
 "cells": [
  {
   "cell_type": "markdown",
   "id": "60b0ec55",
   "metadata": {},
   "source": [
    "# Carteira Recomendada utilizando Yahoo Finance"
   ]
  },
  {
   "cell_type": "code",
   "execution_count": 452,
   "id": "6ee83e46",
   "metadata": {},
   "outputs": [],
   "source": [
    "import yfinance as yf\n",
    "import pandas as pd\n",
    "import numpy as np\n",
    "import matplotlib.pyplot as plt\n",
    "\n",
    "from sklearn.preprocessing import StandardScaler\n",
    "from sklearn.cluster import KMeans\n",
    "from sklearn.model_selection import train_test_split\n",
    "from sklearn.model_selection import GridSearchCV\n",
    "from sklearn.metrics import r2_score, mean_squared_error\n",
    "from xgboost import XGBRegressor\n",
    "\n",
    "from sqlalchemy import create_engine"
   ]
  },
  {
   "cell_type": "code",
   "execution_count": 453,
   "id": "709ff054",
   "metadata": {},
   "outputs": [],
   "source": [
    "engine = create_engine('sqlite:///carteira_recomendada.db')"
   ]
  },
  {
   "cell_type": "markdown",
   "id": "4b1d5237",
   "metadata": {},
   "source": [
    "# Dados\n",
    "### Lista de ações\n",
    "Para iniciar a construção do modelo responsável pela **recomendação da carteira de investimentos**, é necessário selecionar as **ações que serão o foco do estudo**. Além disso, foi escolhido o **índice de mercado** correspondente, que servirá como referência para o cálculo das métricas e para a comparação do desempenho da carteira definida com o desempenho geral do mercado."
   ]
  },
  {
   "cell_type": "code",
   "execution_count": 454,
   "id": "5bd2d04c",
   "metadata": {},
   "outputs": [],
   "source": [
    "tickers = [\n",
    "    \"ABEV3.SA\", \"ALPA4.SA\", \"AMER3.SA\", \"ASAI3.SA\", \"AZUL4.SA\", \"B3SA3.SA\",\n",
    "    \"BBAS3.SA\", \"BBDC3.SA\", \"BBDC4.SA\", \"BBSE3.SA\", \"BPAC11.SA\", \"BRAP4.SA\",\n",
    "    \"BRFS3.SA\", \"BRKM5.SA\", \"BRML3.SA\", \"CASH3.SA\", \"CCRO3.SA\", \"CIEL3.SA\",\n",
    "    \"CMIG4.SA\", \"COGN3.SA\", \"CPFE3.SA\", \"CPLE6.SA\", \"CRFB3.SA\", \"CSAN3.SA\",\n",
    "    \"CSNA3.SA\", \"CYRE3.SA\", \"DXCO3.SA\", \"ELET3.SA\", \"ELET6.SA\", \"EMBR3.SA\",\n",
    "    \"ENGI11.SA\", \"EQTL3.SA\", \"EZTC3.SA\", \"GGBR4.SA\", \"GOAU4.SA\", \"GOLL4.SA\",\n",
    "    \"HAPV3.SA\", \"HYPE3.SA\", \"IGTI11.SA\", \"ITSA4.SA\", \"ITUB4.SA\", \"JBSS3.SA\",\n",
    "    \"KLBN11.SA\", \"LREN3.SA\", \"MGLU3.SA\", \"MRFG3.SA\", \"MRVE3.SA\", \"MULT3.SA\",\n",
    "    \"NTCO3.SA\", \"PETR3.SA\", \"PETR4.SA\", \"PRIO3.SA\", \"RADL3.SA\", \"RAIL3.SA\",\n",
    "    \"RENT3.SA\", \"RRRP3.SA\", \"SANB11.SA\", \"SBSP3.SA\", \"SMTO3.SA\", \"SOMA3.SA\",\n",
    "    \"SUZB3.SA\", \"TAEE11.SA\", \"TIMS3.SA\", \"UGPA3.SA\", \"USIM5.SA\", \"VALE3.SA\",\n",
    "    \"VBBR3.SA\", \"VIIA3.SA\", \"VIVT3.SA\", \"WEGE3.SA\", \"YDUQ3.SA\"\n",
    "]\n",
    "\n",
    "reference_index = \"^BVSP\""
   ]
  },
  {
   "cell_type": "markdown",
   "id": "537350af",
   "metadata": {},
   "source": [
    "### Coleta dos dados\n",
    "Os dados utilizados neste estudo foram obtidos por meio da **API do Yahoo Finance**, que disponibiliza informações históricas sobre o desempenho de ações negociadas no mercado financeiro.  \n",
    "A extração foi realizada para o período previamente definido, considerando as ações selecionadas para análise.\n",
    "\n",
    "A API fornece, para cada ativo, as seguintes variáveis:\n",
    "\n",
    "- **Open** – preço de abertura da ação no respectivo dia de negociação.  \n",
    "- **High** – preço máximo atingido pela ação no período considerado.  \n",
    "- **Low** – preço mínimo registrado no período.  \n",
    "- **Close** – preço de fechamento da ação.  \n",
    "- **Volume** – quantidade total de ações negociadas no período.\n",
    "\n",
    "Esses dados constituem a base de entrada para as etapas subsequentes de processamento, análise e modelagem."
   ]
  },
  {
   "cell_type": "code",
   "execution_count": 455,
   "id": "bf14a5eb",
   "metadata": {},
   "outputs": [
    {
     "name": "stderr",
     "output_type": "stream",
     "text": [
      "C:\\Users\\airto\\AppData\\Local\\Temp\\ipykernel_37448\\2081291660.py:4: FutureWarning: YF.download() has changed argument auto_adjust default to True\n",
      "  raw_data = yf.download(tickers, start=start_date, end=end_date)\n",
      "[*********************100%***********************]  71 of 71 completed\n",
      "\n",
      "10 Failed downloads:\n",
      "['CIEL3.SA', 'VIIA3.SA', 'CCRO3.SA', 'GOLL4.SA', 'JBSS3.SA', 'CRFB3.SA', 'RRRP3.SA', 'NTCO3.SA', 'SOMA3.SA', 'BRML3.SA']: YFTzMissingError('possibly delisted; no timezone found')\n",
      "C:\\Users\\airto\\AppData\\Local\\Temp\\ipykernel_37448\\2081291660.py:9: FutureWarning: YF.download() has changed argument auto_adjust default to True\n",
      "  reference_index_data = yf.download(reference_index, start=start_date, end=end_date)\n",
      "[*********************100%***********************]  1 of 1 completed\n"
     ]
    },
    {
     "name": "stdout",
     "output_type": "stream",
     "text": [
      "Price         Date Adj Close                                               \\\n",
      "Ticker              BRML3.SA CCRO3.SA CIEL3.SA CRFB3.SA GOLL4.SA JBSS3.SA   \n",
      "0       2022-01-03       NaN      NaN      NaN      NaN      NaN      NaN   \n",
      "1       2022-01-04       NaN      NaN      NaN      NaN      NaN      NaN   \n",
      "2       2022-01-05       NaN      NaN      NaN      NaN      NaN      NaN   \n",
      "3       2022-01-06       NaN      NaN      NaN      NaN      NaN      NaN   \n",
      "4       2022-01-07       NaN      NaN      NaN      NaN      NaN      NaN   \n",
      "\n",
      "Price                              ...    Volume                               \\\n",
      "Ticker NTCO3.SA RRRP3.SA SOMA3.SA  ... TAEE11.SA TIMS3.SA  UGPA3.SA  USIM5.SA   \n",
      "0           NaN      NaN      NaN  ...   3007200  5546600   7856600  15351200   \n",
      "1           NaN      NaN      NaN  ...   2351300  5998900   7254500  17988500   \n",
      "2           NaN      NaN      NaN  ...   1375000  3290600  10312000  25366100   \n",
      "3           NaN      NaN      NaN  ...   2044500  5255100   5933600  25986600   \n",
      "4           NaN      NaN      NaN  ...   1703700  5872100   5583600  18595700   \n",
      "\n",
      "Price                                                          \n",
      "Ticker  VALE3.SA VBBR3.SA VIIA3.SA VIVT3.SA WEGE3.SA YDUQ3.SA  \n",
      "0       18557200  7653000      NaN  3929200  5475700  3935900  \n",
      "1       18178700  9306400      NaN  3172400  4485400  2782400  \n",
      "2       22039000  9412900      NaN  4777600  8402200  3078500  \n",
      "3       22044100  9043900      NaN  3487600  6043900  3407600  \n",
      "4       35213100  6700300      NaN  3394000  6155500  3020500  \n",
      "\n",
      "[5 rows x 366 columns]\n",
      "Price         Date     Close      High       Low      Open    Volume\n",
      "Ticker                 ^BVSP     ^BVSP     ^BVSP     ^BVSP     ^BVSP\n",
      "0       2022-01-03  103922.0  106125.0  103413.0  104823.0  11128500\n",
      "1       2022-01-04  103514.0  104276.0  103096.0  103922.0  11491600\n",
      "2       2022-01-05  101006.0  103514.0  100850.0  103514.0         0\n",
      "3       2022-01-06  101561.0  102235.0  101000.0  101006.0  11749200\n",
      "4       2022-01-07  102719.0  102719.0  101104.0  101561.0  11733200\n"
     ]
    }
   ],
   "source": [
    "start_date = \"2022-01-01\"\n",
    "end_date = \"2025-10-08\"\n",
    "\n",
    "raw_data = yf.download(tickers, start=start_date, end=end_date)\n",
    "raw_data = raw_data.reset_index()\n",
    "raw_data['Date'] = raw_data['Date'].dt.strftime('%Y-%m-%d')\n",
    "raw_data.to_sql('raw_data', con=engine, if_exists='replace', index=False)\n",
    "\n",
    "reference_index_data = yf.download(reference_index, start=start_date, end=end_date)\n",
    "reference_index_data = reference_index_data.reset_index()\n",
    "reference_index_data['Date'] = reference_index_data['Date'].dt.strftime('%Y-%m-%d')\n",
    "reference_index_data.to_sql('reference_index_data', con=engine, if_exists='replace', index=False)\n",
    "\n",
    "print(raw_data.head())\n",
    "print(reference_index_data.head())"
   ]
  },
  {
   "cell_type": "markdown",
   "id": "f9bfccaa",
   "metadata": {},
   "source": [
    "### Limpeza dos dados\n",
    "Com base nos dados obtidos da API, realizamos a **limpeza dos ativos** que não tiveram as informações necessárias disponíveis ou que apresentaram **dados faltantes**."
   ]
  },
  {
   "cell_type": "code",
   "execution_count": 457,
   "id": "10a66964",
   "metadata": {},
   "outputs": [
    {
     "name": "stdout",
     "output_type": "stream",
     "text": [
      "Tickers removidos: ['BRML3.SA', 'CCRO3.SA', 'CIEL3.SA', 'CRFB3.SA', 'GOLL4.SA', 'JBSS3.SA', 'NTCO3.SA', 'RRRP3.SA', 'SOMA3.SA', 'VIIA3.SA', 'BRFS3.SA', 'CPLE6.SA', 'MRFG3.SA']\n"
     ]
    }
   ],
   "source": [
    "tickers_to_remove = [\n",
    "    t for t in raw_data.columns.get_level_values(1).unique()\n",
    "    if raw_data.xs(t, axis=1, level=1).isnull().any().any()\n",
    "]\n",
    "\n",
    "data = raw_data.drop(columns=tickers_to_remove, level=1)\n",
    "data.to_sql('data', con=engine, if_exists='replace', index=True)\n",
    "\n",
    "tickers = [t for t in tickers if t not in tickers_to_remove]\n",
    "\n",
    "print(\"Tickers removidos:\", tickers_to_remove)"
   ]
  },
  {
   "cell_type": "markdown",
   "id": "0af7d427",
   "metadata": {},
   "source": [
    "### Visualização dos dados\n",
    "Com os dados revisados, é possível gerar uma **visualização gráfica** do valor das ações selecionadas ao longo do período definido para o estudo.  \n",
    "Essa visualização permite observar como os preços das ações **variam ao longo do tempo**, refletindo os fenômenos do mercado nacional e internacional."
   ]
  },
  {
   "cell_type": "code",
   "execution_count": null,
   "id": "d5db0002",
   "metadata": {},
   "outputs": [],
   "source": [
    "plt.figure(figsize=(15,5))\n",
    "\n",
    "for ticker in tickers:\n",
    "    plt.plot(data.index, data[\"Close\", ticker], label=ticker)\n",
    "\n",
    "plt.xlabel(\"Date\")\n",
    "plt.ylabel(\"Closing Price [R$]\")\n",
    "plt.title(\"Stock Prices\")\n",
    "plt.legend(\n",
    "    loc='upper left',\n",
    "    bbox_to_anchor=(1, 1),\n",
    "    fontsize='small',\n",
    "    frameon=False,\n",
    "    ncol=3,\n",
    "    title='Stock Data'\n",
    ")\n",
    "plt.show()"
   ]
  },
  {
   "cell_type": "markdown",
   "id": "ebafd87e",
   "metadata": {},
   "source": [
    "### Cálculo das métricas (feature engineering)\n",
    "Com os dados fornecidos pela API, realizamos a **extração das métricas** que caracterizam a performance de cada ativo no mercado de capitais. Foram consideradas métricas essenciais para a análise de ações, permitindo avaliar tanto o retorno quanto o risco associado a cada ativo ao longo do período analisado:\n",
    "\n",
    "- **Retorno acumulado** – compara o preço de fechamento do último dia com o do primeiro, medindo o **ganho ou perda do ativo** no horizonte temporal considerado.  \n",
    "- **Volatilidade** – representa o **desvio padrão dos retornos diários** ao longo do período. Quanto maior a volatilidade, **maior o risco associado** ao ativo.  \n",
    "- **Drawdown** – mede a **maior queda do preço em relação a um pico anterior** dentro do período analisado, indicando a **exposição máxima a perdas**.  \n",
    "- **Volume médio** – calcula a **média diária de negociação do ativo**, fornecendo uma noção da **liquidez do mercado**.  \n",
    "- **Índice de correlação com referência** – avalia a **relação do desempenho da ação com um índice de mercado de referência**, permitindo identificar **quanto o ativo se movimenta em conjunto com o mercado**.  \n",
    "- **Sharpe ratio** – combina retorno e risco ao dividir o **retorno acumulado pelo desvio padrão dos retornos diários**, fornecendo uma medida de **retorno ajustado pelo risco**."
   ]
  },
  {
   "cell_type": "code",
   "execution_count": 458,
   "id": "e1950bd8",
   "metadata": {},
   "outputs": [
    {
     "name": "stdout",
     "output_type": "stream",
     "text": [
      "       ticker  cumulative_return_period  return_std_deviation    volume_avg  \\\n",
      "0    ABEV3.SA                 -0.068550              0.013856  2.822758e+07   \n",
      "1    ALPA4.SA                 -0.726793              0.029917  4.118616e+06   \n",
      "2    AMER3.SA                 -0.998122              0.090300  1.382423e+06   \n",
      "3    ASAI3.SA                 -0.291313              0.026379  1.511347e+07   \n",
      "4    AZUL4.SA                 -0.955364              0.050160  1.943563e+07   \n",
      "5    B3SA3.SA                  0.286641              0.022793  4.235359e+07   \n",
      "6    BBAS3.SA                  1.036216              0.016497  2.557767e+07   \n",
      "7    BBDC3.SA                  0.274359              0.016904  7.768744e+06   \n",
      "8    BBDC4.SA                  0.237506              0.018743  4.114655e+07   \n",
      "9    BBSE3.SA                  1.331607              0.012791  5.392205e+06   \n",
      "10  BPAC11.SA                  1.532657              0.021723  9.722008e+06   \n",
      "11   BRAP4.SA                  0.053211              0.017063  3.710594e+06   \n",
      "12   BRKM5.SA                 -0.877193              0.031111  3.510159e+06   \n",
      "13   CASH3.SA                 -0.859294              0.043955  2.813625e+06   \n",
      "14   CMIG4.SA                  1.397442              0.017345  1.377890e+07   \n",
      "15   COGN3.SA                  0.315014              0.032937  3.448067e+07   \n",
      "16   CPFE3.SA                  0.766509              0.014676  2.070595e+06   \n",
      "17   CSAN3.SA                 -0.699962              0.023679  1.225602e+07   \n",
      "18   CSNA3.SA                 -0.486936              0.028541  9.690089e+06   \n",
      "19   CYRE3.SA                  1.358307              0.024719  6.419613e+06   \n",
      "20   DXCO3.SA                 -0.569888              0.026009  3.854234e+06   \n",
      "21   ELET3.SA                  0.779721              0.018030  9.091333e+06   \n",
      "22   ELET6.SA                  1.084395              0.016759  2.153662e+06   \n",
      "23   EMBR3.SA                  2.061784              0.025709  7.369646e+06   \n",
      "24  ENGI11.SA                  0.423677              0.016526  2.536510e+06   \n",
      "25   EQTL3.SA                  0.728215              0.015794  7.955980e+06   \n",
      "26   EZTC3.SA                 -0.040485              0.027412  2.135614e+06   \n",
      "27   GGBR4.SA                  0.028111              0.020017  1.309669e+07   \n",
      "28   GOAU4.SA                  0.191483              0.019018  8.256413e+06   \n",
      "29   HAPV3.SA                 -0.767098              0.038665  4.790269e+06   \n",
      "30   HYPE3.SA                 -0.077147              0.019600  3.868286e+06   \n",
      "31  IGTI11.SA                  0.471591              0.019669  2.930092e+06   \n",
      "32   ITSA4.SA                  0.981129              0.013376  2.593059e+07   \n",
      "33   ITUB4.SA                  1.378732              0.014277  3.136406e+07   \n",
      "34  KLBN11.SA                 -0.044539              0.014599  5.422164e+06   \n",
      "35   LREN3.SA                 -0.249468              0.028236  1.823621e+07   \n",
      "36   MGLU3.SA                 -0.853486              0.045790  1.926295e+07   \n",
      "37   MRVE3.SA                 -0.420072              0.032991  1.215431e+07   \n",
      "38   MULT3.SA                  0.811716              0.017937  4.604120e+06   \n",
      "39   PETR3.SA                  1.793196              0.020894  1.371582e+07   \n",
      "40   PETR4.SA                  1.905886              0.020010  5.389239e+07   \n",
      "41   PRIO3.SA                  0.863017              0.023816  1.203134e+07   \n",
      "42   RADL3.SA                 -0.129943              0.020461  7.730672e+06   \n",
      "43   RAIL3.SA                 -0.048157              0.019277  1.217116e+07   \n",
      "44   RENT3.SA                 -0.172934              0.023566  8.244699e+06   \n",
      "45  SANB11.SA                  0.167278              0.015659  2.405292e+06   \n",
      "46   SBSP3.SA                  2.432343              0.018263  3.540443e+06   \n",
      "47   SMTO3.SA                 -0.435628              0.023123  1.791945e+06   \n",
      "48   SUZB3.SA                 -0.076288              0.017233  6.187963e+06   \n",
      "49  TAEE11.SA                  0.414391              0.009930  1.946405e+06   \n",
      "50   TIMS3.SA                  1.504150              0.015441  7.255554e+06   \n",
      "51   UGPA3.SA                  0.653610              0.022071  6.234584e+06   \n",
      "52   USIM5.SA                 -0.666299              0.025945  1.470410e+07   \n",
      "53   VALE3.SA                  0.058090              0.018227  2.603734e+07   \n",
      "54   VBBR3.SA                  0.389596              0.020737  9.910058e+06   \n",
      "55   VIVT3.SA                  0.676283              0.013885  4.856745e+06   \n",
      "56   WEGE3.SA                  0.200909              0.019066  7.560366e+06   \n",
      "57   YDUQ3.SA                 -0.349506              0.036387  4.593384e+06   \n",
      "\n",
      "    drawdown  sharpe_ratio  correlation_index  \n",
      "0  -0.266156     -4.947331           0.021034  \n",
      "1  -0.824938    -24.293524          -0.005627  \n",
      "2  -0.999127    -11.053358           0.010690  \n",
      "3  -0.755519    -11.043543          -0.024487  \n",
      "4  -0.981222    -19.046318           0.028869  \n",
      "5  -0.383583     12.575882           0.014453  \n",
      "6  -0.371943     62.813852           0.028210  \n",
      "7  -0.329226     16.230664           0.046852  \n",
      "8  -0.385361     12.672030           0.045023  \n",
      "9  -0.218144    104.102693           0.033673  \n",
      "10 -0.367986     70.554863           0.011866  \n",
      "11 -0.399869      3.118566           0.045339  \n",
      "12 -0.880304    -28.195397           0.048408  \n",
      "13 -0.916066    -19.549337           0.014424  \n",
      "14 -0.213115     80.566315           0.002706  \n",
      "15 -0.718750      9.564270          -0.020403  \n",
      "16 -0.206765     52.227480          -0.042554  \n",
      "17 -0.769021    -29.560183          -0.000320  \n",
      "18 -0.655341    -17.061024           0.046852  \n",
      "19 -0.395906     54.950496          -0.012876  \n",
      "20 -0.599617    -21.910895          -0.040282  \n",
      "21 -0.407989     43.246203           0.001333  \n",
      "22 -0.395340     64.705463          -0.006482  \n",
      "23 -0.569334     80.197034           0.040830  \n",
      "24 -0.331754     25.636837          -0.036712  \n",
      "25 -0.267857     46.107774          -0.033338  \n",
      "26 -0.540560     -1.476927           0.004867  \n",
      "27 -0.411248      1.404340           0.019954  \n",
      "28 -0.362358     10.068686           0.024727  \n",
      "29 -0.848081    -19.839561           0.023048  \n",
      "30 -0.647246     -3.936067           0.021876  \n",
      "31 -0.304700     23.976643          -0.012734  \n",
      "32 -0.251628     73.349539           0.021774  \n",
      "33 -0.237643     96.569022           0.039497  \n",
      "34 -0.308607     -3.050909          -0.005928  \n",
      "35 -0.601907     -8.835021          -0.001046  \n",
      "36 -0.915486    -18.639121          -0.011281  \n",
      "37 -0.683168    -12.732774           0.026913  \n",
      "38 -0.278444     45.253284          -0.015453  \n",
      "39 -0.342866     85.821770           0.044510  \n",
      "40 -0.391042     95.246206           0.049645  \n",
      "41 -0.353323     36.236858           0.018043  \n",
      "42 -0.546935     -6.350832          -0.021591  \n",
      "43 -0.386040     -2.498245           0.051530  \n",
      "44 -0.595297     -7.338329          -0.012104  \n",
      "45 -0.268642     10.682530           0.014102  \n",
      "46 -0.253330    133.185146           0.011970  \n",
      "47 -0.639735    -18.839318          -0.005570  \n",
      "48 -0.380102     -4.426909           0.036048  \n",
      "49 -0.195561     41.730983          -0.094233  \n",
      "50 -0.251004     97.412062           0.017729  \n",
      "51 -0.488603     29.614353           0.020086  \n",
      "52 -0.735629    -25.681507           0.028352  \n",
      "53 -0.381481      3.186967           0.052022  \n",
      "54 -0.472125     18.787085           0.008483  \n",
      "55 -0.314329     48.706659           0.019167  \n",
      "56 -0.381914     10.537653           0.030731  \n",
      "57 -0.712184     -9.605364          -0.004621  \n"
     ]
    }
   ],
   "source": [
    "keys = [\"ticker\",\"cumulative_return_period\",\"return_std_deviation\",\"volume_avg\",\"drawdown\",\"sharpe_ratio\",\"correlation_index\"]\n",
    "metrics = {key: [] for key in keys}\n",
    "\n",
    "reference_index_return = reference_index_data[('Close', reference_index)].pct_change().dropna()\n",
    "reference_index_return = reference_index_return.reset_index(drop=True)\n",
    "\n",
    "for ticker in tickers:\n",
    "    close_values = data[('Close', ticker)]\n",
    "    close_values = close_values.reset_index(drop=True)\n",
    "    volume = data[('Volume', ticker)]\n",
    "\n",
    "    cumulative_return_period = (close_values.iloc[-1] / close_values.iloc[0]) - 1\n",
    "    daily_return = close_values.pct_change().dropna()\n",
    "    return_std_deviation = daily_return.std()\n",
    "    volume_avg = volume.mean()\n",
    "    drawdown = (close_values/close_values.cummax()-1).min()\n",
    "    sharpe_ratio = cumulative_return_period / return_std_deviation if return_std_deviation > 0 else 0\n",
    "    correlation_index = daily_return.corr(reference_index_return)\n",
    "\n",
    "    metrics[\"ticker\"].append(ticker)\n",
    "    metrics[\"cumulative_return_period\"].append(cumulative_return_period)\n",
    "    metrics[\"return_std_deviation\"].append(return_std_deviation)\n",
    "    metrics[\"volume_avg\"].append(volume_avg)\n",
    "    metrics[\"drawdown\"].append(drawdown)\n",
    "    metrics[\"sharpe_ratio\"].append(sharpe_ratio)\n",
    "    metrics[\"correlation_index\"].append(correlation_index)\n",
    "\n",
    "metrics = pd.DataFrame(metrics)\n",
    "metrics.to_sql('metrics', con=engine, if_exists='replace', index=False)\n",
    "\n",
    "print(metrics)"
   ]
  },
  {
   "cell_type": "markdown",
   "id": "9b828528",
   "metadata": {},
   "source": [
    "### Preparação dos Dados para o Modelo\n",
    "Foram selecionadas as variáveis de entrada responsáveis por caracterizar o desempenho de cada ativo, enquanto o **Sharpe Ratio** foi definido como variável alvo.  \n",
    "Em seguida, os dados foram **padronizados** utilizando o método *StandardScaler* e divididos em **conjuntos de treino e teste**, garantindo a adequada preparação para o processo de modelagem."
   ]
  },
  {
   "cell_type": "code",
   "execution_count": null,
   "id": "2bd62e93",
   "metadata": {},
   "outputs": [],
   "source": [
    "X = metrics[[\"cumulative_return_period\",\"return_std_deviation\",\"drawdown\",\"volume_avg\",\"correlation_index\"]]\n",
    "y = metrics[\"sharpe_ratio\"]\n",
    "\n",
    "scaler = StandardScaler()\n",
    "X_scaled = scaler.fit_transform(X)\n",
    "\n",
    "X_train, X_test, y_train, y_test = train_test_split(X_scaled, y, test_size=0.35, random_state=42)"
   ]
  },
  {
   "cell_type": "markdown",
   "id": "60963454",
   "metadata": {},
   "source": [
    "### Otimização dos Hiperparâmetros\n",
    "\n",
    "Foi realizada uma **busca em grade (Grid Search)** para otimizar os hiperparâmetros do modelo **XGBoost Regressor**.  \n",
    "O processo utilizou validação cruzada com **5 folds** e a métrica de avaliação **R²**, visando identificar a combinação de parâmetros que proporcionasse o melhor desempenho preditivo do modelo."
   ]
  },
  {
   "cell_type": "code",
   "execution_count": null,
   "id": "8faa437b",
   "metadata": {},
   "outputs": [],
   "source": [
    "param_grid = {\n",
    "    'n_estimators': [100,200,300,400,500],\n",
    "    'max_depth': [3,5,7],\n",
    "    'learning_rate': [0.01,0.05,0.1],\n",
    "    'subsample': [0.7,0.8,1.0]\n",
    "}\n",
    "\n",
    "grid_search = GridSearchCV(estimator=XGBRegressor(random_state=42),\n",
    "                           param_grid=param_grid,\n",
    "                           cv=5, scoring='r2', n_jobs=-1)\n",
    "grid_search.fit(X_scaled, y)\n",
    "optimized_parameters = grid_search.best_params_\n",
    "print(optimized_parameters)"
   ]
  },
  {
   "cell_type": "markdown",
   "id": "bd67b8f9",
   "metadata": {},
   "source": [
    "### Treinamento do Modelo\n",
    "\n",
    "Com os hiperparâmetros otimizados, foi treinado o modelo **XGBoost Regressor** utilizando o conjunto de dados de treino.  \n",
    "O treinamento teve como objetivo ajustar o modelo para capturar as relações entre as métricas de desempenho dos ativos e o **Sharpe Ratio**."
   ]
  },
  {
   "cell_type": "code",
   "execution_count": null,
   "id": "adf2d77c",
   "metadata": {},
   "outputs": [],
   "source": [
    "modelo = XGBRegressor(\n",
    "    **optimized_parameters,\n",
    "    colsample_bytree=0.9,\n",
    "    random_state=42\n",
    ")\n",
    "modelo.fit(X_train, y_train)"
   ]
  },
  {
   "cell_type": "markdown",
   "id": "1300257f",
   "metadata": {},
   "source": [
    "### Avaliação do Modelo\n",
    "\n",
    "O modelo treinado foi avaliado utilizando o conjunto de teste, com base nas métricas **R²** e **RMSE (Root Mean Squared Error)**.  \n",
    "Essas métricas permitem quantificar o desempenho preditivo do modelo e a precisão das estimativas geradas para o **Sharpe Ratio**.\n"
   ]
  },
  {
   "cell_type": "code",
   "execution_count": null,
   "id": "16d303a0",
   "metadata": {},
   "outputs": [],
   "source": [
    "y_pred = modelo.predict(X_test)\n",
    "print(f\"R²: {r2_score(y_test, y_pred):.3f}\")\n",
    "print(f\"RMSE: {np.sqrt(mean_squared_error(y_test, y_pred)):.4f}\")"
   ]
  },
  {
   "cell_type": "markdown",
   "id": "cf1a3f17",
   "metadata": {},
   "source": [
    "### Geração da Recomendação de Carteira\n",
    "\n",
    "O modelo foi utilizado para **gerar previsões do Sharpe Ratio** para todos os ativos.  \n",
    "Em seguida, os ativos foram **ordenados** pelo valor predito, e as **5 principais ações** foram selecionadas como recomendação de investimento.  \n",
    "A tabela abaixo apresenta essas ações, junto com suas métricas de desempenho."
   ]
  },
  {
   "cell_type": "code",
   "execution_count": null,
   "id": "025ae9a9",
   "metadata": {},
   "outputs": [],
   "source": [
    "metrics[\"score_predito\"] = modelo.predict(X_scaled)\n",
    "df = metrics.sort_values(by=[\"score_predito\",\"ticker\"], ascending=[False,True]).reset_index(drop=True)\n",
    "carteira_recomendada = df.head(5)\n",
    "carteira_recomendada.to_sql('carteira_recomendada', con=engine, if_exists='replace', index=False)\n",
    "\n",
    "print(\"\\nAções recomendadas:\")\n",
    "print(carteira_recomendada[[\"ticker\",\"cumulative_return_period\",\"return_std_deviation\",\"drawdown\",\"score_predito\"]])"
   ]
  }
 ],
 "metadata": {
  "kernelspec": {
   "display_name": "Python 3",
   "language": "python",
   "name": "python3"
  },
  "language_info": {
   "codemirror_mode": {
    "name": "ipython",
    "version": 3
   },
   "file_extension": ".py",
   "mimetype": "text/x-python",
   "name": "python",
   "nbconvert_exporter": "python",
   "pygments_lexer": "ipython3",
   "version": "3.13.3"
  }
 },
 "nbformat": 4,
 "nbformat_minor": 5
}
