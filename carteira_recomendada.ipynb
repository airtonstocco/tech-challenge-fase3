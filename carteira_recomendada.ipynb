{
 "cells": [
  {
   "cell_type": "markdown",
   "id": "60b0ec55",
   "metadata": {},
   "source": [
    "# Carteira Recomendada utilizando Yahoo Finance"
   ]
  },
  {
   "cell_type": "code",
   "execution_count": null,
   "id": "6ee83e46",
   "metadata": {},
   "outputs": [],
   "source": [
    "import yfinance as yf\n",
    "import pandas as pd\n",
    "import numpy as np\n",
    "import matplotlib.pyplot as plt\n",
    "\n",
    "from sklearn.preprocessing import StandardScaler\n",
    "from sklearn.cluster import KMeans\n",
    "from sklearn.model_selection import train_test_split\n",
    "from sklearn.model_selection import GridSearchCV\n",
    "from sklearn.metrics import r2_score, mean_squared_error\n",
    "from xgboost import XGBRegressor"
   ]
  },
  {
   "cell_type": "markdown",
   "id": "4b1d5237",
   "metadata": {},
   "source": [
    "# Dados\n",
    "### Lista de ações\n",
    "Para iniciar a construção do modelo responsável pela **recomendação da carteira de investimentos**, é necessário selecionar as **ações que serão o foco do estudo**. Além disso, foi escolhido o **índice de mercado** correspondente, que servirá como referência para o cálculo das métricas e para a comparação do desempenho da carteira definida com o desempenho geral do mercado."
   ]
  },
  {
   "cell_type": "code",
   "execution_count": null,
   "id": "5bd2d04c",
   "metadata": {},
   "outputs": [],
   "source": [
    "tickers = [\n",
    "    \"ABEV3.SA\", \"ALPA4.SA\", \"AMER3.SA\", \"ASAI3.SA\", \"AZUL4.SA\", \"B3SA3.SA\",\n",
    "    \"BBAS3.SA\", \"BBDC3.SA\", \"BBDC4.SA\", \"BBSE3.SA\", \"BPAC11.SA\", \"BRAP4.SA\",\n",
    "    \"BRFS3.SA\", \"BRKM5.SA\", \"BRML3.SA\", \"CASH3.SA\", \"CCRO3.SA\", \"CIEL3.SA\",\n",
    "    \"CMIG4.SA\", \"COGN3.SA\", \"CPFE3.SA\", \"CPLE6.SA\", \"CRFB3.SA\", \"CSAN3.SA\",\n",
    "    \"CSNA3.SA\", \"CYRE3.SA\", \"DXCO3.SA\", \"ELET3.SA\", \"ELET6.SA\", \"EMBR3.SA\",\n",
    "    \"ENGI11.SA\", \"EQTL3.SA\", \"EZTC3.SA\", \"GGBR4.SA\", \"GOAU4.SA\", \"GOLL4.SA\",\n",
    "    \"HAPV3.SA\", \"HYPE3.SA\", \"IGTI11.SA\", \"ITSA4.SA\", \"ITUB4.SA\", \"JBSS3.SA\",\n",
    "    \"KLBN11.SA\", \"LREN3.SA\", \"MGLU3.SA\", \"MRFG3.SA\", \"MRVE3.SA\", \"MULT3.SA\",\n",
    "    \"NTCO3.SA\", \"PETR3.SA\", \"PETR4.SA\", \"PRIO3.SA\", \"RADL3.SA\", \"RAIL3.SA\",\n",
    "    \"RENT3.SA\", \"RRRP3.SA\", \"SANB11.SA\", \"SBSP3.SA\", \"SMTO3.SA\", \"SOMA3.SA\",\n",
    "    \"SUZB3.SA\", \"TAEE11.SA\", \"TIMS3.SA\", \"UGPA3.SA\", \"USIM5.SA\", \"VALE3.SA\",\n",
    "    \"VBBR3.SA\", \"VIIA3.SA\", \"VIVT3.SA\", \"WEGE3.SA\", \"YDUQ3.SA\"\n",
    "]\n",
    "\n",
    "reference_index = \"^BVSP\""
   ]
  },
  {
   "cell_type": "markdown",
   "id": "537350af",
   "metadata": {},
   "source": [
    "### Coleta dos dados\n",
    "Os dados utilizados neste estudo foram obtidos por meio da **API do Yahoo Finance**, que disponibiliza informações históricas sobre o desempenho de ações negociadas no mercado financeiro.  \n",
    "A extração foi realizada para o período previamente definido, considerando as ações selecionadas para análise.\n",
    "\n",
    "A API fornece, para cada ativo, as seguintes variáveis:\n",
    "\n",
    "- **Open** – preço de abertura da ação no respectivo dia de negociação.  \n",
    "- **High** – preço máximo atingido pela ação no período considerado.  \n",
    "- **Low** – preço mínimo registrado no período.  \n",
    "- **Close** – preço de fechamento da ação.  \n",
    "- **Volume** – quantidade total de ações negociadas no período.\n",
    "\n",
    "Esses dados constituem a base de entrada para as etapas subsequentes de processamento, análise e modelagem."
   ]
  },
  {
   "cell_type": "code",
   "execution_count": null,
   "id": "bf14a5eb",
   "metadata": {},
   "outputs": [],
   "source": [
    "start_date = \"2022-01-01\"\n",
    "end_date = \"2025-10-08\"\n",
    "\n",
    "raw_data = yf.download(tickers, start=start_date, end=end_date)\n",
    "reference_index_data = yf.download(reference_index, start=start_date, end=end_date)\n",
    "\n",
    "print(raw_data.head())\n",
    "print(reference_index_data.head())"
   ]
  },
  {
   "cell_type": "markdown",
   "id": "f9bfccaa",
   "metadata": {},
   "source": [
    "### Limpeza dos dados\n",
    "Com base nos dados obtidos da API, realizamos a **limpeza dos ativos** que não tiveram as informações necessárias disponíveis ou que apresentaram **dados faltantes**."
   ]
  },
  {
   "cell_type": "code",
   "execution_count": null,
   "id": "10a66964",
   "metadata": {},
   "outputs": [],
   "source": [
    "tickers_to_remove = [\n",
    "    t for t in raw_data.columns.get_level_values(1).unique()\n",
    "    if raw_data.xs(t, axis=1, level=1).isnull().any().any()\n",
    "]\n",
    "\n",
    "data = raw_data.drop(columns=tickers_to_remove, level=1)\n",
    "tickers = [t for t in tickers if t not in tickers_to_remove]\n",
    "\n",
    "print(\"Tickers removidos:\", tickers_to_remove)"
   ]
  },
  {
   "cell_type": "markdown",
   "id": "0af7d427",
   "metadata": {},
   "source": [
    "### Visualização dos dados\n",
    "Com os dados revisados, é possível gerar uma **visualização gráfica** do valor das ações selecionadas ao longo do período definido para o estudo.  \n",
    "Essa visualização permite observar como os preços das ações **variam ao longo do tempo**, refletindo os fenômenos do mercado nacional e internacional."
   ]
  },
  {
   "cell_type": "code",
   "execution_count": null,
   "id": "d5db0002",
   "metadata": {},
   "outputs": [],
   "source": [
    "plt.figure(figsize=(15,5))\n",
    "\n",
    "for ticker in tickers:\n",
    "    plt.plot(data.index, data[\"Close\", ticker], label=ticker)\n",
    "\n",
    "plt.xlabel(\"Date\")\n",
    "plt.ylabel(\"Closing Price [R$]\")\n",
    "plt.title(\"Stock Prices\")\n",
    "plt.legend(\n",
    "    loc='upper left',\n",
    "    bbox_to_anchor=(1, 1),\n",
    "    fontsize='small',\n",
    "    frameon=False,\n",
    "    ncol=3,\n",
    "    title='Stock Data'\n",
    ")\n",
    "plt.show()"
   ]
  },
  {
   "cell_type": "markdown",
   "id": "ebafd87e",
   "metadata": {},
   "source": [
    "### Cálculo das métricas (feature engineering)\n",
    "Com os dados fornecidos pela API, realizamos a **extração das métricas** que caracterizam a performance de cada ativo no mercado de capitais. Foram consideradas métricas essenciais para a análise de ações, permitindo avaliar tanto o retorno quanto o risco associado a cada ativo ao longo do período analisado:\n",
    "\n",
    "- **Retorno acumulado** – compara o preço de fechamento do último dia com o do primeiro, medindo o **ganho ou perda do ativo** no horizonte temporal considerado.  \n",
    "- **Volatilidade** – representa o **desvio padrão dos retornos diários** ao longo do período. Quanto maior a volatilidade, **maior o risco associado** ao ativo.  \n",
    "- **Drawdown** – mede a **maior queda do preço em relação a um pico anterior** dentro do período analisado, indicando a **exposição máxima a perdas**.  \n",
    "- **Volume médio** – calcula a **média diária de negociação do ativo**, fornecendo uma noção da **liquidez do mercado**.  \n",
    "- **Índice de correlação com referência** – avalia a **relação do desempenho da ação com um índice de mercado de referência**, permitindo identificar **quanto o ativo se movimenta em conjunto com o mercado**.  \n",
    "- **Sharpe ratio** – combina retorno e risco ao dividir o **retorno acumulado pelo desvio padrão dos retornos diários**, fornecendo uma medida de **retorno ajustado pelo risco**."
   ]
  },
  {
   "cell_type": "code",
   "execution_count": null,
   "id": "e1950bd8",
   "metadata": {},
   "outputs": [],
   "source": [
    "keys = [\"ticker\",\"cumulative_return_period\",\"return_std_deviation\",\"volume_avg\",\"drawdown\",\"sharpe_ratio\",\"correlation_index\"]\n",
    "metrics = {key: [] for key in keys}\n",
    "\n",
    "reference_index_return = reference_index_data[('Close', reference_index)].pct_change().dropna()\n",
    "reference_index_return = reference_index_return.reset_index(drop=True)\n",
    "\n",
    "for ticker in tickers:\n",
    "    close_values = data[('Close', ticker)]\n",
    "    close_values = close_values.reset_index(drop=True)\n",
    "    volume = data[('Volume', ticker)]\n",
    "\n",
    "    cumulative_return_period = (close_values.iloc[-1] / close_values.iloc[0]) - 1\n",
    "    daily_return = close_values.pct_change().dropna()\n",
    "    return_std_deviation = daily_return.std()\n",
    "    volume_avg = volume.mean()\n",
    "    drawdown = (close_values/close_values.cummax()-1).min()\n",
    "    sharpe_ratio = cumulative_return_period / return_std_deviation if return_std_deviation > 0 else 0\n",
    "    correlation_index = daily_return.corr(reference_index_return)\n",
    "\n",
    "    metrics[\"ticker\"].append(ticker)\n",
    "    metrics[\"cumulative_return_period\"].append(cumulative_return_period)\n",
    "    metrics[\"return_std_deviation\"].append(return_std_deviation)\n",
    "    metrics[\"volume_avg\"].append(volume_avg)\n",
    "    metrics[\"drawdown\"].append(drawdown)\n",
    "    metrics[\"sharpe_ratio\"].append(sharpe_ratio)\n",
    "    metrics[\"correlation_index\"].append(correlation_index)\n",
    "\n",
    "df = pd.DataFrame(metrics)\n",
    "print(df)"
   ]
  },
  {
   "cell_type": "markdown",
   "id": "9b828528",
   "metadata": {},
   "source": [
    "### Preparação dos Dados para o Modelo\n",
    "Foram selecionadas as variáveis de entrada responsáveis por caracterizar o desempenho de cada ativo, enquanto o **Sharpe Ratio** foi definido como variável alvo.  \n",
    "Em seguida, os dados foram **padronizados** utilizando o método *StandardScaler* e divididos em **conjuntos de treino e teste**, garantindo a adequada preparação para o processo de modelagem."
   ]
  },
  {
   "cell_type": "code",
   "execution_count": null,
   "id": "2bd62e93",
   "metadata": {},
   "outputs": [],
   "source": [
    "X = df[[\"cumulative_return_period\",\"return_std_deviation\",\"drawdown\",\"volume_avg\",\"correlation_index\"]]\n",
    "y = df[\"sharpe_ratio\"]\n",
    "\n",
    "scaler = StandardScaler()\n",
    "X_scaled = scaler.fit_transform(X)\n",
    "\n",
    "X_train, X_test, y_train, y_test = train_test_split(X_scaled, y, test_size=0.35, random_state=42)"
   ]
  },
  {
   "cell_type": "markdown",
   "id": "60963454",
   "metadata": {},
   "source": [
    "### Otimização dos Hiperparâmetros\n",
    "\n",
    "Foi realizada uma **busca em grade (Grid Search)** para otimizar os hiperparâmetros do modelo **XGBoost Regressor**.  \n",
    "O processo utilizou validação cruzada com **5 folds** e a métrica de avaliação **R²**, visando identificar a combinação de parâmetros que proporcionasse o melhor desempenho preditivo do modelo."
   ]
  },
  {
   "cell_type": "code",
   "execution_count": null,
   "id": "8faa437b",
   "metadata": {},
   "outputs": [],
   "source": [
    "param_grid = {\n",
    "    'n_estimators': [100,200,300,400,500],\n",
    "    'max_depth': [3,5,7],\n",
    "    'learning_rate': [0.01,0.05,0.1],\n",
    "    'subsample': [0.7,0.8,1.0]\n",
    "}\n",
    "\n",
    "grid_search = GridSearchCV(estimator=XGBRegressor(random_state=42),\n",
    "                           param_grid=param_grid,\n",
    "                           cv=5, scoring='r2', n_jobs=-1)\n",
    "grid_search.fit(X_scaled, y)\n",
    "optimized_parameters = grid_search.best_params_\n",
    "print(optimized_parameters)"
   ]
  },
  {
   "cell_type": "markdown",
   "id": "bd67b8f9",
   "metadata": {},
   "source": [
    "### Treinamento do Modelo\n",
    "\n",
    "Com os hiperparâmetros otimizados, foi treinado o modelo **XGBoost Regressor** utilizando o conjunto de dados de treino.  \n",
    "O treinamento teve como objetivo ajustar o modelo para capturar as relações entre as métricas de desempenho dos ativos e o **Sharpe Ratio**."
   ]
  },
  {
   "cell_type": "code",
   "execution_count": null,
   "id": "adf2d77c",
   "metadata": {},
   "outputs": [],
   "source": [
    "modelo = XGBRegressor(\n",
    "    **optimized_parameters,\n",
    "    colsample_bytree=0.9,\n",
    "    random_state=42\n",
    ")\n",
    "modelo.fit(X_train, y_train)"
   ]
  },
  {
   "cell_type": "markdown",
   "id": "1300257f",
   "metadata": {},
   "source": [
    "### Avaliação do Modelo\n",
    "\n",
    "O modelo treinado foi avaliado utilizando o conjunto de teste, com base nas métricas **R²** e **RMSE (Root Mean Squared Error)**.  \n",
    "Essas métricas permitem quantificar o desempenho preditivo do modelo e a precisão das estimativas geradas para o **Sharpe Ratio**.\n"
   ]
  },
  {
   "cell_type": "code",
   "execution_count": null,
   "id": "16d303a0",
   "metadata": {},
   "outputs": [],
   "source": [
    "y_pred = modelo.predict(X_test)\n",
    "print(f\"R²: {r2_score(y_test, y_pred):.3f}\")\n",
    "print(f\"RMSE: {np.sqrt(mean_squared_error(y_test, y_pred)):.4f}\")"
   ]
  },
  {
   "cell_type": "markdown",
   "id": "cf1a3f17",
   "metadata": {},
   "source": [
    "### Geração da Recomendação de Carteira\n",
    "\n",
    "O modelo foi utilizado para **gerar previsões do Sharpe Ratio** para todos os ativos.  \n",
    "Em seguida, os ativos foram **ordenados** pelo valor predito, e as **5 principais ações** foram selecionadas como recomendação de investimento.  \n",
    "A tabela abaixo apresenta essas ações, junto com suas métricas de desempenho."
   ]
  },
  {
   "cell_type": "code",
   "execution_count": null,
   "id": "025ae9a9",
   "metadata": {},
   "outputs": [],
   "source": [
    "df[\"score_predito\"] = modelo.predict(X_scaled)\n",
    "df = df.sort_values(by=[\"score_predito\",\"ticker\"], ascending=[False,True]).reset_index(drop=True)\n",
    "df_recomendadas = df.head(5)\n",
    "\n",
    "print(\"\\nAções recomendadas:\")\n",
    "print(df_recomendadas[[\"ticker\",\"cumulative_return_period\",\"return_std_deviation\",\"drawdown\",\"score_predito\"]])"
   ]
  }
 ],
 "metadata": {
  "kernelspec": {
   "display_name": "Python 3",
   "language": "python",
   "name": "python3"
  },
  "language_info": {
   "codemirror_mode": {
    "name": "ipython",
    "version": 3
   },
   "file_extension": ".py",
   "mimetype": "text/x-python",
   "name": "python",
   "nbconvert_exporter": "python",
   "pygments_lexer": "ipython3",
   "version": "3.13.3"
  }
 },
 "nbformat": 4,
 "nbformat_minor": 5
}
