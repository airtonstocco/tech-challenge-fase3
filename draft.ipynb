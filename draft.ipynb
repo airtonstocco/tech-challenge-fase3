{
 "cells": [
  {
   "cell_type": "code",
   "execution_count": 2,
   "id": "6ee83e46",
   "metadata": {},
   "outputs": [],
   "source": [
    "import yfinance as yf\n",
    "import pandas as pd"
   ]
  },
  {
   "cell_type": "markdown",
   "id": "4b1d5237",
   "metadata": {},
   "source": [
    "List of Tickers"
   ]
  },
  {
   "cell_type": "code",
   "execution_count": 3,
   "id": "5bd2d04c",
   "metadata": {},
   "outputs": [],
   "source": [
    "tickers = [\"ITSA4.SA\", \"ITUB4.SA\"]"
   ]
  },
  {
   "cell_type": "code",
   "execution_count": null,
   "id": "bf14a5eb",
   "metadata": {},
   "outputs": [],
   "source": [
    "data = yf.download(tickers, start=\"2024-01-01\", end=\"2025-10-01\")\n",
    "# data.index = pd.to_datetime(data.index)\n",
    "\n",
    "print(data.head())"
   ]
  },
  {
   "cell_type": "code",
   "execution_count": 13,
   "id": "e1950bd8",
   "metadata": {},
   "outputs": [
    {
     "name": "stdout",
     "output_type": "stream",
     "text": [
      "{'ticker': ['ITSA4.SA', 'ITUB4.SA'], 'cumulative_return_period': [np.float64(3.209174156188965), np.float64(12.572225570678711)], 'return_std_deviation': [np.float64(0.11099721164765151), np.float64(0.37594936538943047)]}\n",
      "     ticker  cumulative_return_period  return_std_deviation\n",
      "0  ITSA4.SA                  3.209174              0.110997\n",
      "1  ITUB4.SA                 12.572226              0.375949\n"
     ]
    }
   ],
   "source": [
    "keys = [\"ticker\", \"cumulative_return_period\",\"return_std_deviation\"]\n",
    "metrics = {key: [] for key in keys}\n",
    "\n",
    "for ticker in tickers:\n",
    "    close_values = data[('Close', ticker)]\n",
    "    close_values = close_values.reset_index(drop=True)\n",
    "\n",
    "    cumulative_return_period = (close_values.iloc[-1])-(close_values.iloc[0])\n",
    "    daily_return = close_values.diff()\n",
    "    return_std_deviation = daily_return.std()\n",
    "\n",
    "    metrics[\"ticker\"].append(ticker)\n",
    "    metrics[\"cumulative_return_period\"].append(cumulative_return_period)\n",
    "    metrics[\"return_std_deviation\"].append(return_std_deviation)\n",
    "\n",
    "df = pd.DataFrame(metrics)\n",
    "print(metrics)\n",
    "print(df)"
   ]
  },
  {
   "cell_type": "markdown",
   "id": "369e0360",
   "metadata": {},
   "source": []
  }
 ],
 "metadata": {
  "kernelspec": {
   "display_name": "Python 3",
   "language": "python",
   "name": "python3"
  },
  "language_info": {
   "codemirror_mode": {
    "name": "ipython",
    "version": 3
   },
   "file_extension": ".py",
   "mimetype": "text/x-python",
   "name": "python",
   "nbconvert_exporter": "python",
   "pygments_lexer": "ipython3",
   "version": "3.13.3"
  }
 },
 "nbformat": 4,
 "nbformat_minor": 5
}
